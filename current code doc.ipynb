{
 "cells": [
  {
   "cell_type": "code",
   "execution_count": 1,
   "metadata": {},
   "outputs": [],
   "source": [
    "import numpy as np\n",
    "import pandas as pd\n",
    "import matplotlib.pyplot as plt"
   ]
  },
  {
   "cell_type": "code",
   "execution_count": 2,
   "metadata": {},
   "outputs": [],
   "source": [
    "dat = pd.read_csv('SP500_LongTermCreditRating_Ratios_combined.csv')"
   ]
  },
  {
   "cell_type": "code",
   "execution_count": 5,
   "metadata": {},
   "outputs": [
    {
     "data": {
      "text/plain": [
       "<bound method NDFrame.head of        permno     cusip Ticker       adate       qdate public_date splticrm  \\\n",
       "0       10104  68389X10   ORCL  31/05/2009  30/11/2009  31/01/2010        A   \n",
       "1       10104  68389X10   ORCL  31/05/2009  30/11/2009  28/02/2010        A   \n",
       "2       10104  68389X10   ORCL  31/05/2009  30/11/2009  31/03/2010        A   \n",
       "3       10104  68389X10   ORCL  31/05/2009  28/02/2010  30/04/2010        A   \n",
       "4       10104  68389X10   ORCL  31/05/2009  28/02/2010  31/05/2010        A   \n",
       "...       ...       ...    ...         ...         ...         ...      ...   \n",
       "30114   93429  12503M10   CBOE  31/12/2015  30/06/2016  30/09/2016     BBB+   \n",
       "30115   93429  12503M10   CBOE  31/12/2015  30/06/2016  31/10/2016     BBB+   \n",
       "30116   93429  12503M10   CBOE  31/12/2015  30/09/2016  30/11/2016     BBB+   \n",
       "30117   93429  12503M10   CBOE  31/12/2015  30/09/2016  31/12/2016     BBB+   \n",
       "30118   93429  12503M10   CBOE  31/12/2015  30/09/2016  31/01/2017     BBB+   \n",
       "\n",
       "          bm     ps     pcf  ...  dltt_be  debt_assets  debt_capital  \\\n",
       "0      0.252  4.976  13.353  ...    0.451        0.485         0.338   \n",
       "1      0.252  5.323  14.285  ...    0.451        0.485         0.338   \n",
       "2      0.252  5.556  14.911  ...    0.451        0.485         0.338   \n",
       "3      0.233  5.381  15.909  ...    0.443        0.493         0.346   \n",
       "4      0.233  4.692  13.871  ...    0.443        0.493         0.346   \n",
       "...      ...    ...     ...  ...      ...          ...           ...   \n",
       "30114  0.050  7.678  20.724  ...    0.000        0.332         0.035   \n",
       "30115  0.050  7.483  20.200  ...    0.000        0.332         0.035   \n",
       "30116  0.056  8.541  24.861  ...    0.000        0.324         0.036   \n",
       "30117  0.056  9.159  26.662  ...    0.000        0.324         0.036   \n",
       "30118  0.056  9.869  28.729  ...    0.000        0.324         0.036   \n",
       "\n",
       "       de_ratio  cash_ratio  quick_ratio  curr_ratio  at_turn     ptb  \\\n",
       "0         0.949       1.875        2.409       2.409    0.466   4.145   \n",
       "1         0.949       1.875        2.409       2.409    0.466   4.434   \n",
       "2         0.949       1.875        2.409       2.409    0.466   4.628   \n",
       "3         0.982       1.739        2.237       2.245    0.453   4.515   \n",
       "4         0.982       1.739        2.237       2.245    0.453   3.937   \n",
       "...         ...         ...          ...         ...      ...     ...   \n",
       "30114     0.508       1.227        2.512       2.512    1.734  19.471   \n",
       "30115     0.508       1.227        2.512       2.512    1.734  18.978   \n",
       "30116     0.496       1.062        2.441       2.441    1.612  18.964   \n",
       "30117     0.496       1.062        2.441       2.441    1.612  20.338   \n",
       "30118     0.496       1.062        2.441       2.441    1.612  21.915   \n",
       "\n",
       "       PEG_trailing  \n",
       "0             1.045  \n",
       "1             1.117  \n",
       "2             1.165  \n",
       "3             1.545  \n",
       "4             1.348  \n",
       "...             ...  \n",
       "30114         2.344  \n",
       "30115         2.285  \n",
       "30116         4.246  \n",
       "30117         4.553  \n",
       "30118         4.906  \n",
       "\n",
       "[30119 rows x 40 columns]>"
      ]
     },
     "execution_count": 5,
     "metadata": {},
     "output_type": "execute_result"
    }
   ],
   "source": [
    "dat.head"
   ]
  },
  {
   "cell_type": "code",
   "execution_count": 66,
   "metadata": {},
   "outputs": [
    {
     "data": {
      "text/plain": [
       "permno                0\n",
       "cusip                 0\n",
       "Ticker                0\n",
       "adate                10\n",
       "qdate                 0\n",
       "public_date           0\n",
       "splticrm              0\n",
       "bm                  671\n",
       "ps                    9\n",
       "pcf                  33\n",
       "dpr                1611\n",
       "npm                   9\n",
       "gpm                   9\n",
       "cfm                 107\n",
       "roa                  33\n",
       "roe                 688\n",
       "roce                 96\n",
       "GProf                 9\n",
       "equity_invcap        13\n",
       "debt_invcap          45\n",
       "totdebt_invcap       63\n",
       "capital_ratio        41\n",
       "int_debt           2313\n",
       "int_totdebt        2276\n",
       "debt_ebitda         145\n",
       "short_debt          256\n",
       "lt_debt              41\n",
       "ocf_lct            4967\n",
       "cash_debt           153\n",
       "fcf_ocf             471\n",
       "dltt_be             654\n",
       "debt_assets          20\n",
       "debt_capital        279\n",
       "de_ratio             20\n",
       "cash_ratio         4952\n",
       "quick_ratio        4952\n",
       "curr_ratio         4952\n",
       "at_turn              33\n",
       "ptb                 671\n",
       "PEG_trailing      10626\n",
       "dtype: int64"
      ]
     },
     "execution_count": 66,
     "metadata": {},
     "output_type": "execute_result"
    }
   ],
   "source": [
    "pd.isnull(dat).sum()"
   ]
  },
  {
   "cell_type": "code",
   "execution_count": 67,
   "metadata": {},
   "outputs": [
    {
     "data": {
      "text/plain": [
       "permno            0.000000\n",
       "cusip             0.000000\n",
       "Ticker            0.000000\n",
       "adate             0.000332\n",
       "qdate             0.000000\n",
       "public_date       0.000000\n",
       "splticrm          0.000000\n",
       "bm                0.022278\n",
       "ps                0.000299\n",
       "pcf               0.001096\n",
       "dpr               0.053488\n",
       "npm               0.000299\n",
       "gpm               0.000299\n",
       "cfm               0.003553\n",
       "roa               0.001096\n",
       "roe               0.022843\n",
       "roce              0.003187\n",
       "GProf             0.000299\n",
       "equity_invcap     0.000432\n",
       "debt_invcap       0.001494\n",
       "totdebt_invcap    0.002092\n",
       "capital_ratio     0.001361\n",
       "int_debt          0.076795\n",
       "int_totdebt       0.075567\n",
       "debt_ebitda       0.004814\n",
       "short_debt        0.008500\n",
       "lt_debt           0.001361\n",
       "ocf_lct           0.164913\n",
       "cash_debt         0.005080\n",
       "fcf_ocf           0.015638\n",
       "dltt_be           0.021714\n",
       "debt_assets       0.000664\n",
       "debt_capital      0.009263\n",
       "de_ratio          0.000664\n",
       "cash_ratio        0.164414\n",
       "quick_ratio       0.164414\n",
       "curr_ratio        0.164414\n",
       "at_turn           0.001096\n",
       "ptb               0.022278\n",
       "PEG_trailing      0.352801\n",
       "dtype: float64"
      ]
     },
     "execution_count": 67,
     "metadata": {},
     "output_type": "execute_result"
    }
   ],
   "source": [
    "dat.isnull().sum()/len(dat)"
   ]
  },
  {
   "cell_type": "code",
   "execution_count": 28,
   "metadata": {},
   "outputs": [
    {
     "data": {
      "text/plain": [
       "BBB     5649\n",
       "BBB+    4831\n",
       "A-      3955\n",
       "A       3797\n",
       "BBB-    3322\n",
       "A+      1943\n",
       "BB+     1648\n",
       "BB      1096\n",
       "BB-     1069\n",
       "AA-      990\n",
       "AA       489\n",
       "B+       410\n",
       "AAA      296\n",
       "B        226\n",
       "AA+      199\n",
       "B-       143\n",
       "CCC+      50\n",
       "D          4\n",
       "CCC        2\n",
       "Name: splticrm, dtype: int64"
      ]
     },
     "execution_count": 28,
     "metadata": {},
     "output_type": "execute_result"
    }
   ],
   "source": [
    "dat[\"splticrm\"].value_counts()"
   ]
  },
  {
   "cell_type": "code",
   "execution_count": 20,
   "metadata": {},
   "outputs": [
    {
     "name": "stdout",
     "output_type": "stream",
     "text": [
      "              bm         ps        pcf        dpr       npm       gpm  \\\n",
      "min     0.001000   0.047000 -218.21000  -0.464000 -3.501000 -9.518000   \n",
      "mean    0.545447   2.192131   11.47963   0.502258  0.093861  0.427301   \n",
      "50%     0.430000   1.696000   10.31350   0.308500  0.090000  0.391000   \n",
      "max   137.237000  23.124000  282.26100  80.554000  1.799000  0.982000   \n",
      "\n",
      "           cfm      roa        roe      roce  ...     dltt_be  debt_assets  \\\n",
      "min  -2.353000 -0.58600 -34.647000 -1.068000  ...    0.000000     0.106000   \n",
      "mean  0.170773  0.13747   0.183558  0.173437  ...    1.030301     0.652653   \n",
      "50%   0.153000  0.13200   0.131000  0.150000  ...    0.541000     0.645000   \n",
      "max   2.054000  0.99800  37.037000  2.279000  ...  290.238000     1.590000   \n",
      "\n",
      "      debt_capital     de_ratio  cash_ratio  quick_ratio  curr_ratio  \\\n",
      "min       0.005000 -1228.100000    0.000000     0.091000    0.175000   \n",
      "mean      0.535723     2.929983    0.650758     1.340312    1.731645   \n",
      "50%       0.504000     1.768000    0.393000     1.109000    1.470000   \n",
      "max       4.361000  1259.980000    9.241000    11.057000   11.057000   \n",
      "\n",
      "       at_turn        ptb  PEG_trailing  \n",
      "min   0.033000   0.181000     -16.31700  \n",
      "mean  0.778058   3.611239       2.72521  \n",
      "50%   0.599000   2.379000       1.11900  \n",
      "max   5.912000  65.486000      89.91500  \n",
      "\n",
      "[4 rows x 33 columns]\n"
     ]
    }
   ],
   "source": [
    "des = dat.loc[:, \"bm\":].describe()\n",
    "ind = [3, 1, 5, 7]\n",
    "print(des.iloc[ind])"
   ]
  },
  {
   "cell_type": "code",
   "execution_count": null,
   "metadata": {},
   "outputs": [],
   "source": []
  }
 ],
 "metadata": {
  "kernelspec": {
   "display_name": "Python 3",
   "language": "python",
   "name": "python3"
  },
  "language_info": {
   "codemirror_mode": {
    "name": "ipython",
    "version": 3
   },
   "file_extension": ".py",
   "mimetype": "text/x-python",
   "name": "python",
   "nbconvert_exporter": "python",
   "pygments_lexer": "ipython3",
   "version": "3.7.0"
  }
 },
 "nbformat": 4,
 "nbformat_minor": 4
}
