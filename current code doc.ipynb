{
 "cells": [
  {
   "cell_type": "code",
   "execution_count": null,
   "metadata": {},
   "outputs": [],
   "source": [
    "import numpy as np\n",
    "import pandas as pd\n",
    "import matplotlib.pyplot as plt\n",
    "import seaborn as sns"
   ]
  },
  {
   "cell_type": "markdown",
   "metadata": {},
   "source": [
    "We start off by loading and then merging the datasets we want to use:"
   ]
  },
  {
   "cell_type": "code",
   "execution_count": null,
   "metadata": {},
   "outputs": [],
   "source": [
    "dat1 = pd.read_csv('key.csv', sep=',')\n",
    "dat2 = pd.read_csv('SP500_finratios.csv', sep=',', parse_dates=['adate', 'qdate', 'public_date'])\n",
    "dat3 = pd.read_csv('ratings2.csv', sep=',', parse_dates=['datadate'])"
   ]
  },
  {
   "cell_type": "code",
   "execution_count": null,
   "metadata": {},
   "outputs": [],
   "source": [
    "#the columns of the first data set are renamed to match the names of the other data sets\n",
    "dat1.columns = ['gvkey','linktype','permno','permco','linkdt','linkenddt','conm','tic','cusip']"
   ]
  },
  {
   "cell_type": "code",
   "execution_count": null,
   "metadata": {},
   "outputs": [],
   "source": [
    "#the duplicates in the key data set are removed, so that pd.merge() will work\n",
    "dat1 = dat1.set_index('permno')\n",
    "dat1 = dat1[~dat1.index.duplicated(keep='first')]"
   ]
  },
  {
   "cell_type": "code",
   "execution_count": null,
   "metadata": {},
   "outputs": [],
   "source": [
    "#the variable datadate is renamed public_date and both are transformed to the same format, so\n",
    "# that pd.merge()recognises them as one and the same\n",
    "dat3['public_date'] = dat3['datadate']\n",
    "del dat3['datadate']\n",
    "dat2['public_date'] = pd.to_datetime(dat2.public_date)\n",
    "dat3['public_date'] = pd.to_datetime(dat3.public_date)"
   ]
  },
  {
   "cell_type": "code",
   "execution_count": null,
   "metadata": {},
   "outputs": [],
   "source": [
    "dat1and2 = pd.merge(dat1, dat2, on='permno', how='inner', validate='one_to_many')"
   ]
  },
  {
   "cell_type": "code",
   "execution_count": null,
   "metadata": {},
   "outputs": [],
   "source": [
    "dat = pd.merge(dat1and2, dat3, on=['gvkey', 'public_date', 'conm', 'tic', 'cusip'], how='inner', validate='one_to_one')"
   ]
  },
  {
   "cell_type": "code",
   "execution_count": null,
   "metadata": {},
   "outputs": [],
   "source": [
    "dat"
   ]
  },
  {
   "cell_type": "code",
   "execution_count": null,
   "metadata": {},
   "outputs": [],
   "source": [
    "#just a little indulgence\n",
    "class color:\n",
    "   purple = '\\033[95m'\n",
    "   cyan = '\\033[36m'\n",
    "   blue = '\\033[94m'\n",
    "   green = '\\033[92m'\n",
    "   yellow = '\\033[93m'\n",
    "   red = '\\033[91m'\n",
    "   bold = '\\033[1m'\n",
    "   underline = '\\033[4m'\n",
    "   end = '\\033[0m'"
   ]
  },
  {
   "cell_type": "markdown",
   "metadata": {},
   "source": [
    "Now that we have the data, let's have a look at it. First of, we're interested in the distribution of the ratings:"
   ]
  },
  {
   "cell_type": "code",
   "execution_count": null,
   "metadata": {
    "scrolled": true
   },
   "outputs": [],
   "source": [
    "dat['splticrm'].value_counts()"
   ]
  },
  {
   "cell_type": "markdown",
   "metadata": {},
   "source": [
    "Seeing as there are only four observations of rating D, and only two observations of rating CCC, our data set does not allow us to draw any conclusions for these ratings and we have to drop them from our sample."
   ]
  },
  {
   "cell_type": "code",
   "execution_count": null,
   "metadata": {},
   "outputs": [],
   "source": [
    "dat = dat[dat['splticrm'] != 'CCC']\n",
    "dat = dat[dat['splticrm'] != 'D']"
   ]
  },
  {
   "cell_type": "markdown",
   "metadata": {},
   "source": [
    "Following that, we consider our numerical data:"
   ]
  },
  {
   "cell_type": "code",
   "execution_count": null,
   "metadata": {},
   "outputs": [],
   "source": [
    "des = dat.loc[:, 'bm':'cash_lt'].describe()\n",
    "ind = [3, 1, 5, 7]   #printing the entire .describe() information consumes unnecessarily much computation power, so I index the lines I'm interested in\n",
    "print(des.iloc[ind], '\\n')\n",
    "des = dat.loc[:, 'invt_act':].describe()  #I do this in two steps, because I don't want any variables hidden behind \"...\"\n",
    "ind = [3, 1, 5, 7]\n",
    "print(des.iloc[ind])"
   ]
  },
  {
   "cell_type": "markdown",
   "metadata": {},
   "source": [
    "The output suggests that several variables have extreme outliers - for instance bm has a minimum of 0.001000, a mean of  0.506463, but a maximum of 137.237000. Visualising the data with boxplots shows this quite notably. Since our models will work a lot better if the data is more or less normally distributed, we use monotonic transformations on all variables where it makes sense."
   ]
  },
  {
   "cell_type": "code",
   "execution_count": null,
   "metadata": {},
   "outputs": [],
   "source": [
    "sns.boxplot(x = 'bm', data = dat)"
   ]
  },
  {
   "cell_type": "code",
   "execution_count": null,
   "metadata": {},
   "outputs": [],
   "source": [
    "logbm = np.log(dat.loc[:, 'bm'])\n",
    "sns.boxplot(x = logbm)"
   ]
  },
  {
   "cell_type": "code",
   "execution_count": null,
   "metadata": {},
   "outputs": [],
   "source": [
    "sns.boxplot(x = 'ps', data = dat)"
   ]
  },
  {
   "cell_type": "code",
   "execution_count": null,
   "metadata": {},
   "outputs": [],
   "source": [
    "logps = np.log(dat.loc[:, 'ps'])\n",
    "sns.boxplot(x = logps)"
   ]
  },
  {
   "cell_type": "code",
   "execution_count": null,
   "metadata": {},
   "outputs": [],
   "source": [
    "sns.boxplot(x = 'pcf', data = dat)"
   ]
  },
  {
   "cell_type": "code",
   "execution_count": null,
   "metadata": {},
   "outputs": [],
   "source": [
    "sns.boxplot(x = 'dpr', data = dat)"
   ]
  },
  {
   "cell_type": "code",
   "execution_count": null,
   "metadata": {},
   "outputs": [],
   "source": [
    "def safe_ln(x):\n",
    "    logdpr = np.log(dat.loc[:, 'dpr'])\n",
    "    logdpr = 0\n",
    "    return logdpr\n",
    "sns.boxplot(x = logdpr)"
   ]
  },
  {
   "cell_type": "code",
   "execution_count": null,
   "metadata": {},
   "outputs": [],
   "source": [
    "sns.boxplot(x = 'npm', data = dat)"
   ]
  },
  {
   "cell_type": "code",
   "execution_count": null,
   "metadata": {},
   "outputs": [],
   "source": [
    "def safe_ln(x):\n",
    "    lognpm = np.log(dat.loc[:, 'npm'])\n",
    "    lognpm = 0\n",
    "    return lognpm\n",
    "sns.boxplot(x = lognpm)"
   ]
  },
  {
   "cell_type": "code",
   "execution_count": null,
   "metadata": {},
   "outputs": [],
   "source": [
    "sns.boxplot(x = 'gpm', data = dat)"
   ]
  },
  {
   "cell_type": "code",
   "execution_count": null,
   "metadata": {},
   "outputs": [],
   "source": [
    "expgpm = np.exp(dat.loc[:, 'gpm'])\n",
    "sns.boxplot(x = expgpm)"
   ]
  },
  {
   "cell_type": "code",
   "execution_count": null,
   "metadata": {},
   "outputs": [],
   "source": [
    "sns.boxplot(x = 'cfm', data = dat)"
   ]
  },
  {
   "cell_type": "code",
   "execution_count": null,
   "metadata": {},
   "outputs": [],
   "source": [
    "def safe_ln(x):\n",
    "    logcfm = np.log(dat.loc[:, 'cfm'])\n",
    "    logcfm = 0\n",
    "    return logcfm\n",
    "sns.boxplot(x = logcfm)"
   ]
  },
  {
   "cell_type": "code",
   "execution_count": null,
   "metadata": {},
   "outputs": [],
   "source": [
    "sns.boxplot(x = 'roa', data = dat)"
   ]
  },
  {
   "cell_type": "code",
   "execution_count": null,
   "metadata": {},
   "outputs": [],
   "source": [
    "sns.boxplot(x = 'roe', data = dat)"
   ]
  },
  {
   "cell_type": "code",
   "execution_count": null,
   "metadata": {},
   "outputs": [],
   "source": [
    "def safe_ln(x):\n",
    "    logroe = np.log(dat.loc[:, 'roe'])\n",
    "    logroe = 0\n",
    "    return logroe\n",
    "sns.boxplot(x = logroe)"
   ]
  },
  {
   "cell_type": "code",
   "execution_count": null,
   "metadata": {},
   "outputs": [],
   "source": [
    "sns.boxplot(x = 'roce', data = dat)"
   ]
  },
  {
   "cell_type": "code",
   "execution_count": null,
   "metadata": {},
   "outputs": [],
   "source": [
    "def safe_ln(x):\n",
    "    logroce = np.log(dat.loc[:, 'roce'])\n",
    "    logroce = 0\n",
    "    return logroe\n",
    "sns.boxplot(x = logroce)"
   ]
  },
  {
   "cell_type": "code",
   "execution_count": null,
   "metadata": {},
   "outputs": [],
   "source": [
    "sns.boxplot(x = 'efftax', data = dat)"
   ]
  },
  {
   "cell_type": "code",
   "execution_count": null,
   "metadata": {},
   "outputs": [],
   "source": [
    "def safe_ln(x):\n",
    "    logefftax = np.log(dat.loc[:, 'efftax'])\n",
    "    logefftax = 0\n",
    "    return logefftax\n",
    "sns.boxplot(x = logefftax)"
   ]
  },
  {
   "cell_type": "code",
   "execution_count": null,
   "metadata": {},
   "outputs": [],
   "source": [
    "sns.boxplot(x = 'GProf', data = dat)"
   ]
  },
  {
   "cell_type": "code",
   "execution_count": null,
   "metadata": {},
   "outputs": [],
   "source": [
    "sns.boxplot(x = 'equity_invcap', data = dat)"
   ]
  },
  {
   "cell_type": "code",
   "execution_count": null,
   "metadata": {},
   "outputs": [],
   "source": [
    "expequity_invcap = np.exp(dat.loc[:, 'equity_invcap'])\n",
    "sns.boxplot(x = expequity_invcap)"
   ]
  },
  {
   "cell_type": "code",
   "execution_count": null,
   "metadata": {},
   "outputs": [],
   "source": [
    "sns.boxplot(x = 'debt_invcap', data = dat)"
   ]
  },
  {
   "cell_type": "code",
   "execution_count": null,
   "metadata": {},
   "outputs": [],
   "source": [
    "def safe_ln(x):\n",
    "    logdebt_invcap = np.log(dat.loc[:, 'debt_invcap'])\n",
    "    logdebt_invcap = 0\n",
    "    return logdebt_invcap\n",
    "sns.boxplot(x = logdebt_invcap)"
   ]
  },
  {
   "cell_type": "code",
   "execution_count": null,
   "metadata": {},
   "outputs": [],
   "source": [
    "sns.boxplot(x = 'totdebt_invcap', data = dat)"
   ]
  },
  {
   "cell_type": "code",
   "execution_count": null,
   "metadata": {},
   "outputs": [],
   "source": [
    "def safe_ln(x):\n",
    "    logtotdebt_invcap = np.log(dat.loc[:, 'totdebt_invcap'])\n",
    "    logtotdebt_invcap = 0\n",
    "    return logtotdebt_invcap\n",
    "sns.boxplot(x = logtotdebt_invcap)"
   ]
  },
  {
   "cell_type": "code",
   "execution_count": null,
   "metadata": {},
   "outputs": [],
   "source": [
    "sns.boxplot(x = 'capital_ratio', data = dat)"
   ]
  },
  {
   "cell_type": "code",
   "execution_count": null,
   "metadata": {},
   "outputs": [],
   "source": [
    "def safe_ln(x):\n",
    "    logcapital_ratio = np.log(dat.loc[:, 'capital_ratio'])\n",
    "    logcapital_ratio = 0\n",
    "    return logcapital_ratio\n",
    "sns.boxplot(x = logcapital_ratio)"
   ]
  },
  {
   "cell_type": "code",
   "execution_count": null,
   "metadata": {},
   "outputs": [],
   "source": [
    "sns.boxplot(x = 'int_debt', data = dat)"
   ]
  },
  {
   "cell_type": "code",
   "execution_count": null,
   "metadata": {},
   "outputs": [],
   "source": [
    "def safe_ln(x):\n",
    "    logint_debt = np.log(dat.loc[:, 'int_debt'])\n",
    "    logint_debt = 0\n",
    "    return logint_debt\n",
    "sns.boxplot(x = logint_debt)"
   ]
  },
  {
   "cell_type": "code",
   "execution_count": null,
   "metadata": {},
   "outputs": [],
   "source": [
    "sns.boxplot(x = 'int_totdebt', data = dat)"
   ]
  },
  {
   "cell_type": "code",
   "execution_count": null,
   "metadata": {},
   "outputs": [],
   "source": [
    "def safe_ln(x):\n",
    "    logint_totdebt = np.log(dat.loc[:, 'int_totdebt'])\n",
    "    logint_totdebt = 0\n",
    "    return logint_totdebt\n",
    "sns.boxplot(x = logint_totdebt)"
   ]
  },
  {
   "cell_type": "code",
   "execution_count": null,
   "metadata": {},
   "outputs": [],
   "source": [
    "sns.boxplot(x = 'cash_lt', data = dat)"
   ]
  },
  {
   "cell_type": "code",
   "execution_count": null,
   "metadata": {},
   "outputs": [],
   "source": [
    "def safe_ln(x):\n",
    "    logcash_lt = np.log(dat.loc[:, 'cash_lt'])\n",
    "    logcash_lt = 0\n",
    "    return logcash_lt\n",
    "sns.boxplot(x =  logcash_lt)"
   ]
  },
  {
   "cell_type": "code",
   "execution_count": null,
   "metadata": {},
   "outputs": [],
   "source": [
    "sns.boxplot(x = 'invt_act', data = dat)"
   ]
  },
  {
   "cell_type": "code",
   "execution_count": null,
   "metadata": {},
   "outputs": [],
   "source": [
    "def safe_ln(x):\n",
    "    loginvt_act = np.log(dat.loc[:, 'invt_act'])\n",
    "    loginvt_act = 0\n",
    "    return loginvt_act\n",
    "sns.boxplot(x = loginvt_act)"
   ]
  },
  {
   "cell_type": "code",
   "execution_count": null,
   "metadata": {},
   "outputs": [],
   "source": [
    "sns.boxplot(x = 'debt_at', data = dat)"
   ]
  },
  {
   "cell_type": "code",
   "execution_count": null,
   "metadata": {},
   "outputs": [],
   "source": [
    "def safe_ln(x):\n",
    "    logdebt_at = np.log(dat.loc[:, 'debt_at'])\n",
    "    logdebt_at = 0\n",
    "    return logdebt_at\n",
    "sns.boxplot(x = logdebt_at)"
   ]
  },
  {
   "cell_type": "code",
   "execution_count": null,
   "metadata": {},
   "outputs": [],
   "source": [
    "sns.boxplot(x = 'debt_ebitda', data = dat)"
   ]
  },
  {
   "cell_type": "code",
   "execution_count": null,
   "metadata": {},
   "outputs": [],
   "source": [
    "def safe_ln(x):\n",
    "    logdebt_ebitda = np.log(dat.loc[:, 'debt_ebitda'])\n",
    "    logdebt_ebitda = 0\n",
    "    return logdebt_ebitda\n",
    "sns.boxplot(x = logdebt_ebitda)"
   ]
  },
  {
   "cell_type": "code",
   "execution_count": null,
   "metadata": {},
   "outputs": [],
   "source": [
    "sns.boxplot(x = 'short_debt', data = dat)"
   ]
  },
  {
   "cell_type": "code",
   "execution_count": null,
   "metadata": {},
   "outputs": [],
   "source": [
    "def safe_ln(x):\n",
    "    logshort_debt = np.log(dat.loc[:, 'short_debt'])\n",
    "    logshort_debt = 0\n",
    "    return logshort_debt\n",
    "sns.boxplot(x = logshort_debt)"
   ]
  },
  {
   "cell_type": "code",
   "execution_count": null,
   "metadata": {},
   "outputs": [],
   "source": [
    "sns.boxplot(x = 'curr_debt', data = dat)"
   ]
  },
  {
   "cell_type": "code",
   "execution_count": null,
   "metadata": {},
   "outputs": [],
   "source": [
    "def safe_ln(x):\n",
    "    logcurr_debt = np.log(dat.loc[:, 'curr_debt'])\n",
    "    logcurr_debt = 0\n",
    "    return logcurr_debt\n",
    "sns.boxplot(x = logcurr_debt)"
   ]
  },
  {
   "cell_type": "code",
   "execution_count": null,
   "metadata": {},
   "outputs": [],
   "source": [
    "sns.boxplot(x = 'lt_debt', data = dat)"
   ]
  },
  {
   "cell_type": "code",
   "execution_count": null,
   "metadata": {},
   "outputs": [],
   "source": [
    "def safe_ln(x):\n",
    "    loglt_debt = np.log(dat.loc[:, 'lt_debt'])\n",
    "    loglt_debt = 0\n",
    "    return loglt_debt\n",
    "sns.boxplot(x = loglt_debt)"
   ]
  },
  {
   "cell_type": "code",
   "execution_count": null,
   "metadata": {},
   "outputs": [],
   "source": [
    "sns.boxplot(x = 'ocf_lct', data = dat)"
   ]
  },
  {
   "cell_type": "code",
   "execution_count": null,
   "metadata": {},
   "outputs": [],
   "source": [
    "def safe_ln(x):\n",
    "    logocf_lct = np.log(dat.loc[:, 'ocf_lct'])\n",
    "    logocf_lct = 0\n",
    "    return logocf_lct\n",
    "sns.boxplot(x = logocf_lct)"
   ]
  },
  {
   "cell_type": "code",
   "execution_count": null,
   "metadata": {},
   "outputs": [],
   "source": [
    "sns.boxplot(x = 'cash_debt', data = dat)"
   ]
  },
  {
   "cell_type": "code",
   "execution_count": null,
   "metadata": {},
   "outputs": [],
   "source": [
    "def safe_ln(x):\n",
    "    logcash_debt = np.log(dat.loc[:, 'cash_debt'])\n",
    "    logcash_debt = 0\n",
    "    return logcash_debt\n",
    "sns.boxplot(x = logcash_debt)"
   ]
  },
  {
   "cell_type": "code",
   "execution_count": null,
   "metadata": {},
   "outputs": [],
   "source": [
    "sns.boxplot(x = 'fcf_ocf', data = dat)"
   ]
  },
  {
   "cell_type": "code",
   "execution_count": null,
   "metadata": {},
   "outputs": [],
   "source": [
    "def safe_ln(x):\n",
    "    logfcf_ocf = np.log(dat.loc[:, 'fcf_ocf'])\n",
    "    logfcf_ocf = 0\n",
    "    return logfcf_ocf\n",
    "sns.boxplot(x = logfcf_ocf)"
   ]
  },
  {
   "cell_type": "code",
   "execution_count": null,
   "metadata": {},
   "outputs": [],
   "source": [
    "sns.boxplot(x = 'dltt_be', data = dat)"
   ]
  },
  {
   "cell_type": "code",
   "execution_count": null,
   "metadata": {},
   "outputs": [],
   "source": [
    "def safe_ln(x):\n",
    "    logdltt_be = np.log(dat.loc[:, 'dltt_be'])\n",
    "    logdltt_be = 0\n",
    "    return logdltt_be\n",
    "sns.boxplot(x = logdltt_be)"
   ]
  },
  {
   "cell_type": "code",
   "execution_count": null,
   "metadata": {},
   "outputs": [],
   "source": [
    "sns.boxplot(x = 'debt_assets', data = dat)"
   ]
  },
  {
   "cell_type": "code",
   "execution_count": null,
   "metadata": {},
   "outputs": [],
   "source": [
    "def safe_ln(x):\n",
    "    logdebt_assets = np.log(dat.loc[:, 'debt_assets'])\n",
    "    logdebt_assets = 0\n",
    "    return logdebt_assets\n",
    "sns.boxplot(x = logdebt_assets)"
   ]
  },
  {
   "cell_type": "code",
   "execution_count": null,
   "metadata": {},
   "outputs": [],
   "source": [
    "sns.boxplot(x = 'debt_capital', data = dat)"
   ]
  },
  {
   "cell_type": "code",
   "execution_count": null,
   "metadata": {},
   "outputs": [],
   "source": [
    "def safe_ln(x):\n",
    "    logdebt_capital = np.log(dat.loc[:, 'debt_capital'])\n",
    "    logdebt_capital = 0\n",
    "    return logdebt_capital\n",
    "sns.boxplot(x = logdebt_capital)"
   ]
  },
  {
   "cell_type": "code",
   "execution_count": null,
   "metadata": {},
   "outputs": [],
   "source": [
    "sns.boxplot(x = 'de_ratio', data = dat)"
   ]
  },
  {
   "cell_type": "code",
   "execution_count": null,
   "metadata": {},
   "outputs": [],
   "source": [
    "def safe_ln(x):\n",
    "    logde_ratio = np.log(dat.loc[:, 'de_ratio'])\n",
    "    logde_ratio = 0\n",
    "    return logde_ratio\n",
    "sns.boxplot(x = logde_ratio)"
   ]
  },
  {
   "cell_type": "code",
   "execution_count": null,
   "metadata": {},
   "outputs": [],
   "source": [
    "sns.boxplot(x = 'cash_ratio', data = dat)"
   ]
  },
  {
   "cell_type": "code",
   "execution_count": null,
   "metadata": {},
   "outputs": [],
   "source": [
    "def safe_ln(x):\n",
    "    logcash_ratio = np.log(dat.loc[:, 'cash_ratio'])\n",
    "    logcash_ratio = 0\n",
    "    return logcash_ratio\n",
    "sns.boxplot(x = logcash_ratio)"
   ]
  },
  {
   "cell_type": "code",
   "execution_count": null,
   "metadata": {},
   "outputs": [],
   "source": [
    "sns.boxplot(x = 'quick_ratio', data = dat)"
   ]
  },
  {
   "cell_type": "code",
   "execution_count": null,
   "metadata": {},
   "outputs": [],
   "source": [
    "def safe_ln(x):\n",
    "    logquick_ratio = np.log(dat.loc[:, 'quick_ratio'])\n",
    "    logquick_ratio = 0\n",
    "    return logquick_ratio\n",
    "sns.boxplot(x = logquick_ratio)"
   ]
  },
  {
   "cell_type": "code",
   "execution_count": null,
   "metadata": {},
   "outputs": [],
   "source": [
    "sns.boxplot(x = 'curr_ratio', data = dat)"
   ]
  },
  {
   "cell_type": "code",
   "execution_count": null,
   "metadata": {},
   "outputs": [],
   "source": [
    "def safe_ln(x):\n",
    "    logcurr_ratio = np.log(dat.loc[:, 'curr_ratio'])\n",
    "    logcurr_ratio = 0\n",
    "    return logcurr_ratio\n",
    "sns.boxplot(x = logcurr_ratio)"
   ]
  },
  {
   "cell_type": "code",
   "execution_count": null,
   "metadata": {},
   "outputs": [],
   "source": [
    "sns.boxplot(x = 'at_turn', data = dat)"
   ]
  },
  {
   "cell_type": "code",
   "execution_count": null,
   "metadata": {},
   "outputs": [],
   "source": [
    "def safe_ln(x):\n",
    "    logat_turn = np.log(dat.loc[:, 'at_turn'])\n",
    "    logat_turn = 0\n",
    "    return logat_turn\n",
    "sns.boxplot(x = logat_turn)"
   ]
  },
  {
   "cell_type": "code",
   "execution_count": null,
   "metadata": {},
   "outputs": [],
   "source": [
    "sns.boxplot(x = 'ptb', data = dat)"
   ]
  },
  {
   "cell_type": "code",
   "execution_count": null,
   "metadata": {},
   "outputs": [],
   "source": [
    "def safe_ln(x):\n",
    "    logptb = np.log(dat.loc[:, 'ptb'])\n",
    "    logptb = 0\n",
    "    return logptb\n",
    "sns.boxplot(x = logptb)"
   ]
  },
  {
   "cell_type": "code",
   "execution_count": null,
   "metadata": {},
   "outputs": [],
   "source": [
    "sns.boxplot(x = 'PEG_trailing', data = dat)"
   ]
  },
  {
   "cell_type": "code",
   "execution_count": null,
   "metadata": {},
   "outputs": [],
   "source": [
    "def safe_ln(x):\n",
    "    logPEG_trailing = np.log(dat.loc[:, 'PEG_trailing'])\n",
    "    logPEG_trailing = 0\n",
    "    return logPEG_trailing\n",
    "sns.boxplot(x = logPEG_trailing)"
   ]
  },
  {
   "cell_type": "code",
   "execution_count": null,
   "metadata": {},
   "outputs": [],
   "source": [
    "sns.boxplot(x = 'DIVYIELD', data = dat)"
   ]
  },
  {
   "cell_type": "code",
   "execution_count": null,
   "metadata": {},
   "outputs": [],
   "source": [
    "def safe_ln(x):\n",
    "    logDIVYIELD = np.log(dat.loc[:, 'DIVYIELD'])\n",
    "    logDIVYIELD = 0\n",
    "    return logDIVYIELD\n",
    "sns.boxplot(x = logDIVYIELD)"
   ]
  },
  {
   "cell_type": "markdown",
   "metadata": {},
   "source": [
    "After looking at the data we have, we take a look at the data we do not have:"
   ]
  },
  {
   "cell_type": "code",
   "execution_count": null,
   "metadata": {},
   "outputs": [],
   "source": [
    "col_Names = dat.columns.values\n",
    "total_NAs = pd.isna(dat).sum()\n",
    "percentage_NAs = dat.isna().sum()/len(dat)\n",
    "print(color.bold + \"%-20s %-14s %s\" %(\"Column Names\", \"Total NAs\", \"NAs per observations\") + color.end )\n",
    "#I used the % operator because tab didn't work and this allows me to define the spaces between the items\n",
    "\n",
    "#the loop prints one line after another\n",
    "for item_a, item_b, item_c in zip(col_Names, total_NAs, percentage_NAs):\n",
    "    print(\"%-20s %-14d %.6f\" %(item_a, item_b, item_c))"
   ]
  },
  {
   "cell_type": "markdown",
   "metadata": {},
   "source": [
    "As shown above, one third of the observations of PEG_trailing is missing. The large amount of missing values does not mean we have to dispense with the variable, though. As shown in https://www.sciencedirect.com/science/article/pii/S0895435618308710 we can use multiple imputation even with large amounts of missing data.\n",
    "\n",
    "However, multiple imputation is based on the assumption of **missing at random**, where \"conditional on the observed data, the probability of missingness is independent of unobserved data\". (Same source.) This is of course impossible to test, since we will never know what the unobserved data is. What makes the evaluation even harder is that we were not involved in the data collection, and have no way of finding out why data is missing. However, as the data we have is quite extensive and all companies are bound to reporting standards - meaning they cannot change what data to publish on a whim - we believe the assumption is reasonable. By contrast, it is relatively easy to show that the data is not missing completely at random: Simply plotting the relationship between for instance pcf and the missingness of PEG_trailing shows that there exists a pattern.\n",
    "\n",
    "(For further explanations on the differences between missing at random, missing not at random, and missing completely at random, see our paper.)"
   ]
  },
  {
   "cell_type": "code",
   "execution_count": null,
   "metadata": {},
   "outputs": [],
   "source": [
    "sns.regplot(dat.pcf, dat.PEG_trailing.isna())"
   ]
  },
  {
   "cell_type": "markdown",
   "metadata": {},
   "source": [
    "So now, we will go about filling in the missing data by using multiple imputation, the imputation method being a modeling of each feature with missing values as a function of other features in a round-robin regression."
   ]
  },
  {
   "cell_type": "code",
   "execution_count": null,
   "metadata": {},
   "outputs": [],
   "source": [
    "from sklearn.experimental import enable_iterative_imputer\n",
    "from sklearn.impute import IterativeImputer"
   ]
  },
  {
   "cell_type": "code",
   "execution_count": null,
   "metadata": {},
   "outputs": [],
   "source": []
  },
  {
   "cell_type": "code",
   "execution_count": null,
   "metadata": {},
   "outputs": [],
   "source": []
  },
  {
   "cell_type": "code",
   "execution_count": null,
   "metadata": {},
   "outputs": [],
   "source": []
  },
  {
   "cell_type": "code",
   "execution_count": null,
   "metadata": {},
   "outputs": [],
   "source": []
  },
  {
   "cell_type": "code",
   "execution_count": null,
   "metadata": {},
   "outputs": [],
   "source": []
  },
  {
   "cell_type": "code",
   "execution_count": null,
   "metadata": {},
   "outputs": [],
   "source": []
  }
 ],
 "metadata": {
  "kernelspec": {
   "display_name": "Python 3",
   "language": "python",
   "name": "python3"
  }
 },
 "nbformat": 4,
 "nbformat_minor": 4
}
