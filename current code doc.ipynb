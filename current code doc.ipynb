{
 "cells": [
  {
   "cell_type": "code",
   "execution_count": 1,
   "metadata": {},
   "outputs": [],
   "source": [
    "import numpy as np\n",
    "import pandas as pd\n",
    "import matplotlib.pyplot as plt\n",
    "import seaborn as sns"
   ]
  },
  {
   "cell_type": "markdown",
   "metadata": {},
   "source": [
    "We start off by loading and then merging the datasets we want to use:"
   ]
  },
  {
   "cell_type": "code",
   "execution_count": 2,
   "metadata": {},
   "outputs": [],
   "source": [
    "dat1 = pd.read_csv('key.csv', sep=',')\n",
    "dat2 = pd.read_csv('SP500_finratios.csv', sep=',', parse_dates=['adate', 'qdate', 'public_date'])\n",
    "dat3 = pd.read_csv('ratings2.csv', sep=',', parse_dates=['datadate'])"
   ]
  },
  {
   "cell_type": "code",
   "execution_count": 3,
   "metadata": {},
   "outputs": [],
   "source": [
    "#the columns of the first data set are renamed to match the names of the other data sets\n",
    "dat1.columns = ['gvkey','linktype','permno','permco','linkdt','linkenddt','conm','tic','cusip']"
   ]
  },
  {
   "cell_type": "code",
   "execution_count": 4,
   "metadata": {},
   "outputs": [],
   "source": [
    "#the duplicates in the key data set are removed, so that pd.merge() will work\n",
    "dat1 = dat1.set_index('permno')\n",
    "dat1 = dat1[~dat1.index.duplicated(keep='first')]"
   ]
  },
  {
   "cell_type": "code",
   "execution_count": 5,
   "metadata": {},
   "outputs": [],
   "source": [
    "#the variable datadate is renamed public_date and both are transformed to the same format, so\n",
    "# that pd.merge()recognises them as one and the same\n",
    "dat3['public_date'] = dat3['datadate']\n",
    "del dat3['datadate']\n",
    "dat2['public_date'] = pd.to_datetime(dat2.public_date)\n",
    "dat3['public_date'] = pd.to_datetime(dat3.public_date)"
   ]
  },
  {
   "cell_type": "code",
   "execution_count": 6,
   "metadata": {},
   "outputs": [],
   "source": [
    "dat1and2 = pd.merge(dat1, dat2, on='permno', how='inner', validate='one_to_many')"
   ]
  },
  {
   "cell_type": "code",
   "execution_count": 7,
   "metadata": {},
   "outputs": [],
   "source": [
    "dat = pd.merge(dat1and2, dat3, on=['gvkey', 'public_date', 'conm', 'tic', 'cusip'], how='inner', validate='one_to_one')"
   ]
  },
  {
   "cell_type": "code",
   "execution_count": 8,
   "metadata": {},
   "outputs": [
    {
     "data": {
      "text/html": [
       "<div>\n",
       "<style scoped>\n",
       "    .dataframe tbody tr th:only-of-type {\n",
       "        vertical-align: middle;\n",
       "    }\n",
       "\n",
       "    .dataframe tbody tr th {\n",
       "        vertical-align: top;\n",
       "    }\n",
       "\n",
       "    .dataframe thead th {\n",
       "        text-align: right;\n",
       "    }\n",
       "</style>\n",
       "<table border=\"1\" class=\"dataframe\">\n",
       "  <thead>\n",
       "    <tr style=\"text-align: right;\">\n",
       "      <th></th>\n",
       "      <th>permno</th>\n",
       "      <th>gvkey</th>\n",
       "      <th>linktype</th>\n",
       "      <th>permco</th>\n",
       "      <th>linkdt</th>\n",
       "      <th>linkenddt</th>\n",
       "      <th>conm</th>\n",
       "      <th>tic</th>\n",
       "      <th>cusip</th>\n",
       "      <th>adate</th>\n",
       "      <th>...</th>\n",
       "      <th>debt_capital</th>\n",
       "      <th>de_ratio</th>\n",
       "      <th>cash_ratio</th>\n",
       "      <th>quick_ratio</th>\n",
       "      <th>curr_ratio</th>\n",
       "      <th>at_turn</th>\n",
       "      <th>ptb</th>\n",
       "      <th>PEG_trailing</th>\n",
       "      <th>DIVYIELD</th>\n",
       "      <th>splticrm</th>\n",
       "    </tr>\n",
       "  </thead>\n",
       "  <tbody>\n",
       "    <tr>\n",
       "      <th>0</th>\n",
       "      <td>21020</td>\n",
       "      <td>1045</td>\n",
       "      <td>LC</td>\n",
       "      <td>20010</td>\n",
       "      <td>19500101</td>\n",
       "      <td>19620130</td>\n",
       "      <td>AMERICAN AIRLINES GROUP INC</td>\n",
       "      <td>AAL</td>\n",
       "      <td>02376R102</td>\n",
       "      <td>2008-12-31</td>\n",
       "      <td>...</td>\n",
       "      <td>1.338</td>\n",
       "      <td>-9.366</td>\n",
       "      <td>0.428</td>\n",
       "      <td>0.603</td>\n",
       "      <td>0.664</td>\n",
       "      <td>0.816</td>\n",
       "      <td>NaN</td>\n",
       "      <td>NaN</td>\n",
       "      <td>NaN</td>\n",
       "      <td>B-</td>\n",
       "    </tr>\n",
       "    <tr>\n",
       "      <th>1</th>\n",
       "      <td>21020</td>\n",
       "      <td>1045</td>\n",
       "      <td>LC</td>\n",
       "      <td>20010</td>\n",
       "      <td>19500101</td>\n",
       "      <td>19620130</td>\n",
       "      <td>AMERICAN AIRLINES GROUP INC</td>\n",
       "      <td>AAL</td>\n",
       "      <td>02376R102</td>\n",
       "      <td>2009-12-31</td>\n",
       "      <td>...</td>\n",
       "      <td>1.376</td>\n",
       "      <td>-8.291</td>\n",
       "      <td>0.629</td>\n",
       "      <td>0.787</td>\n",
       "      <td>0.859</td>\n",
       "      <td>0.787</td>\n",
       "      <td>NaN</td>\n",
       "      <td>NaN</td>\n",
       "      <td>NaN</td>\n",
       "      <td>B-</td>\n",
       "    </tr>\n",
       "    <tr>\n",
       "      <th>2</th>\n",
       "      <td>21020</td>\n",
       "      <td>1045</td>\n",
       "      <td>LC</td>\n",
       "      <td>20010</td>\n",
       "      <td>19500101</td>\n",
       "      <td>19620130</td>\n",
       "      <td>AMERICAN AIRLINES GROUP INC</td>\n",
       "      <td>AAL</td>\n",
       "      <td>02376R102</td>\n",
       "      <td>2009-12-31</td>\n",
       "      <td>...</td>\n",
       "      <td>1.376</td>\n",
       "      <td>-8.291</td>\n",
       "      <td>0.629</td>\n",
       "      <td>0.787</td>\n",
       "      <td>0.859</td>\n",
       "      <td>0.787</td>\n",
       "      <td>NaN</td>\n",
       "      <td>NaN</td>\n",
       "      <td>NaN</td>\n",
       "      <td>B-</td>\n",
       "    </tr>\n",
       "    <tr>\n",
       "      <th>3</th>\n",
       "      <td>21020</td>\n",
       "      <td>1045</td>\n",
       "      <td>LC</td>\n",
       "      <td>20010</td>\n",
       "      <td>19500101</td>\n",
       "      <td>19620130</td>\n",
       "      <td>AMERICAN AIRLINES GROUP INC</td>\n",
       "      <td>AAL</td>\n",
       "      <td>02376R102</td>\n",
       "      <td>2009-12-31</td>\n",
       "      <td>...</td>\n",
       "      <td>1.376</td>\n",
       "      <td>-8.291</td>\n",
       "      <td>0.629</td>\n",
       "      <td>0.787</td>\n",
       "      <td>0.859</td>\n",
       "      <td>0.787</td>\n",
       "      <td>NaN</td>\n",
       "      <td>NaN</td>\n",
       "      <td>NaN</td>\n",
       "      <td>B-</td>\n",
       "    </tr>\n",
       "    <tr>\n",
       "      <th>4</th>\n",
       "      <td>21020</td>\n",
       "      <td>1045</td>\n",
       "      <td>LC</td>\n",
       "      <td>20010</td>\n",
       "      <td>19500101</td>\n",
       "      <td>19620130</td>\n",
       "      <td>AMERICAN AIRLINES GROUP INC</td>\n",
       "      <td>AAL</td>\n",
       "      <td>02376R102</td>\n",
       "      <td>2009-12-31</td>\n",
       "      <td>...</td>\n",
       "      <td>1.366</td>\n",
       "      <td>-8.617</td>\n",
       "      <td>0.551</td>\n",
       "      <td>0.712</td>\n",
       "      <td>0.780</td>\n",
       "      <td>0.799</td>\n",
       "      <td>NaN</td>\n",
       "      <td>NaN</td>\n",
       "      <td>NaN</td>\n",
       "      <td>B-</td>\n",
       "    </tr>\n",
       "    <tr>\n",
       "      <th>...</th>\n",
       "      <td>...</td>\n",
       "      <td>...</td>\n",
       "      <td>...</td>\n",
       "      <td>...</td>\n",
       "      <td>...</td>\n",
       "      <td>...</td>\n",
       "      <td>...</td>\n",
       "      <td>...</td>\n",
       "      <td>...</td>\n",
       "      <td>...</td>\n",
       "      <td>...</td>\n",
       "      <td>...</td>\n",
       "      <td>...</td>\n",
       "      <td>...</td>\n",
       "      <td>...</td>\n",
       "      <td>...</td>\n",
       "      <td>...</td>\n",
       "      <td>...</td>\n",
       "      <td>...</td>\n",
       "      <td>...</td>\n",
       "      <td>...</td>\n",
       "    </tr>\n",
       "    <tr>\n",
       "      <th>29853</th>\n",
       "      <td>13168</td>\n",
       "      <td>199356</td>\n",
       "      <td>LC</td>\n",
       "      <td>53964</td>\n",
       "      <td>20111221</td>\n",
       "      <td>E</td>\n",
       "      <td>TRIPADVISOR INC</td>\n",
       "      <td>TRIP</td>\n",
       "      <td>896945201</td>\n",
       "      <td>2014-12-31</td>\n",
       "      <td>...</td>\n",
       "      <td>0.286</td>\n",
       "      <td>0.741</td>\n",
       "      <td>1.478</td>\n",
       "      <td>1.961</td>\n",
       "      <td>1.961</td>\n",
       "      <td>0.726</td>\n",
       "      <td>9.038</td>\n",
       "      <td>9.364</td>\n",
       "      <td>NaN</td>\n",
       "      <td>NaN</td>\n",
       "    </tr>\n",
       "    <tr>\n",
       "      <th>29854</th>\n",
       "      <td>13168</td>\n",
       "      <td>199356</td>\n",
       "      <td>LC</td>\n",
       "      <td>53964</td>\n",
       "      <td>20111221</td>\n",
       "      <td>E</td>\n",
       "      <td>TRIPADVISOR INC</td>\n",
       "      <td>TRIP</td>\n",
       "      <td>896945201</td>\n",
       "      <td>2014-12-31</td>\n",
       "      <td>...</td>\n",
       "      <td>0.278</td>\n",
       "      <td>0.775</td>\n",
       "      <td>1.467</td>\n",
       "      <td>2.010</td>\n",
       "      <td>2.010</td>\n",
       "      <td>0.678</td>\n",
       "      <td>8.184</td>\n",
       "      <td>10.913</td>\n",
       "      <td>NaN</td>\n",
       "      <td>NaN</td>\n",
       "    </tr>\n",
       "    <tr>\n",
       "      <th>29855</th>\n",
       "      <td>13168</td>\n",
       "      <td>199356</td>\n",
       "      <td>LC</td>\n",
       "      <td>53964</td>\n",
       "      <td>20111221</td>\n",
       "      <td>E</td>\n",
       "      <td>TRIPADVISOR INC</td>\n",
       "      <td>TRIP</td>\n",
       "      <td>896945201</td>\n",
       "      <td>2014-12-31</td>\n",
       "      <td>...</td>\n",
       "      <td>0.278</td>\n",
       "      <td>0.775</td>\n",
       "      <td>1.467</td>\n",
       "      <td>2.010</td>\n",
       "      <td>2.010</td>\n",
       "      <td>0.678</td>\n",
       "      <td>9.392</td>\n",
       "      <td>12.469</td>\n",
       "      <td>NaN</td>\n",
       "      <td>NaN</td>\n",
       "    </tr>\n",
       "    <tr>\n",
       "      <th>29856</th>\n",
       "      <td>13168</td>\n",
       "      <td>199356</td>\n",
       "      <td>LC</td>\n",
       "      <td>53964</td>\n",
       "      <td>20111221</td>\n",
       "      <td>E</td>\n",
       "      <td>TRIPADVISOR INC</td>\n",
       "      <td>TRIP</td>\n",
       "      <td>896945201</td>\n",
       "      <td>2014-12-31</td>\n",
       "      <td>...</td>\n",
       "      <td>0.278</td>\n",
       "      <td>0.775</td>\n",
       "      <td>1.467</td>\n",
       "      <td>2.010</td>\n",
       "      <td>2.010</td>\n",
       "      <td>0.678</td>\n",
       "      <td>8.557</td>\n",
       "      <td>11.359</td>\n",
       "      <td>NaN</td>\n",
       "      <td>NaN</td>\n",
       "    </tr>\n",
       "    <tr>\n",
       "      <th>29857</th>\n",
       "      <td>13168</td>\n",
       "      <td>199356</td>\n",
       "      <td>LC</td>\n",
       "      <td>53964</td>\n",
       "      <td>20111221</td>\n",
       "      <td>E</td>\n",
       "      <td>TRIPADVISOR INC</td>\n",
       "      <td>TRIP</td>\n",
       "      <td>896945201</td>\n",
       "      <td>2014-12-31</td>\n",
       "      <td>...</td>\n",
       "      <td>0.289</td>\n",
       "      <td>0.789</td>\n",
       "      <td>1.396</td>\n",
       "      <td>1.944</td>\n",
       "      <td>1.944</td>\n",
       "      <td>0.681</td>\n",
       "      <td>7.114</td>\n",
       "      <td>11.603</td>\n",
       "      <td>NaN</td>\n",
       "      <td>NaN</td>\n",
       "    </tr>\n",
       "  </tbody>\n",
       "</table>\n",
       "<p>29858 rows × 52 columns</p>\n",
       "</div>"
      ],
      "text/plain": [
       "       permno   gvkey linktype  permco    linkdt linkenddt  \\\n",
       "0       21020    1045       LC   20010  19500101  19620130   \n",
       "1       21020    1045       LC   20010  19500101  19620130   \n",
       "2       21020    1045       LC   20010  19500101  19620130   \n",
       "3       21020    1045       LC   20010  19500101  19620130   \n",
       "4       21020    1045       LC   20010  19500101  19620130   \n",
       "...       ...     ...      ...     ...       ...       ...   \n",
       "29853   13168  199356       LC   53964  20111221         E   \n",
       "29854   13168  199356       LC   53964  20111221         E   \n",
       "29855   13168  199356       LC   53964  20111221         E   \n",
       "29856   13168  199356       LC   53964  20111221         E   \n",
       "29857   13168  199356       LC   53964  20111221         E   \n",
       "\n",
       "                              conm   tic      cusip      adate  ...  \\\n",
       "0      AMERICAN AIRLINES GROUP INC   AAL  02376R102 2008-12-31  ...   \n",
       "1      AMERICAN AIRLINES GROUP INC   AAL  02376R102 2009-12-31  ...   \n",
       "2      AMERICAN AIRLINES GROUP INC   AAL  02376R102 2009-12-31  ...   \n",
       "3      AMERICAN AIRLINES GROUP INC   AAL  02376R102 2009-12-31  ...   \n",
       "4      AMERICAN AIRLINES GROUP INC   AAL  02376R102 2009-12-31  ...   \n",
       "...                            ...   ...        ...        ...  ...   \n",
       "29853              TRIPADVISOR INC  TRIP  896945201 2014-12-31  ...   \n",
       "29854              TRIPADVISOR INC  TRIP  896945201 2014-12-31  ...   \n",
       "29855              TRIPADVISOR INC  TRIP  896945201 2014-12-31  ...   \n",
       "29856              TRIPADVISOR INC  TRIP  896945201 2014-12-31  ...   \n",
       "29857              TRIPADVISOR INC  TRIP  896945201 2014-12-31  ...   \n",
       "\n",
       "      debt_capital de_ratio  cash_ratio  quick_ratio  curr_ratio  at_turn  \\\n",
       "0            1.338   -9.366       0.428        0.603       0.664    0.816   \n",
       "1            1.376   -8.291       0.629        0.787       0.859    0.787   \n",
       "2            1.376   -8.291       0.629        0.787       0.859    0.787   \n",
       "3            1.376   -8.291       0.629        0.787       0.859    0.787   \n",
       "4            1.366   -8.617       0.551        0.712       0.780    0.799   \n",
       "...            ...      ...         ...          ...         ...      ...   \n",
       "29853        0.286    0.741       1.478        1.961       1.961    0.726   \n",
       "29854        0.278    0.775       1.467        2.010       2.010    0.678   \n",
       "29855        0.278    0.775       1.467        2.010       2.010    0.678   \n",
       "29856        0.278    0.775       1.467        2.010       2.010    0.678   \n",
       "29857        0.289    0.789       1.396        1.944       1.944    0.681   \n",
       "\n",
       "         ptb  PEG_trailing  DIVYIELD  splticrm  \n",
       "0        NaN           NaN       NaN        B-  \n",
       "1        NaN           NaN       NaN        B-  \n",
       "2        NaN           NaN       NaN        B-  \n",
       "3        NaN           NaN       NaN        B-  \n",
       "4        NaN           NaN       NaN        B-  \n",
       "...      ...           ...       ...       ...  \n",
       "29853  9.038         9.364       NaN       NaN  \n",
       "29854  8.184        10.913       NaN       NaN  \n",
       "29855  9.392        12.469       NaN       NaN  \n",
       "29856  8.557        11.359       NaN       NaN  \n",
       "29857  7.114        11.603       NaN       NaN  \n",
       "\n",
       "[29858 rows x 52 columns]"
      ]
     },
     "execution_count": 8,
     "metadata": {},
     "output_type": "execute_result"
    }
   ],
   "source": [
    "dat"
   ]
  },
  {
   "cell_type": "code",
   "execution_count": 9,
   "metadata": {},
   "outputs": [],
   "source": [
    "#just a little indulgence\n",
    "class color:\n",
    "   purple = '\\033[95m'\n",
    "   cyan = '\\033[36m'\n",
    "   blue = '\\033[94m'\n",
    "   green = '\\033[92m'\n",
    "   yellow = '\\033[93m'\n",
    "   red = '\\033[91m'\n",
    "   bold = '\\033[1m'\n",
    "   underline = '\\033[4m'\n",
    "   end = '\\033[0m'"
   ]
  },
  {
   "cell_type": "markdown",
   "metadata": {},
   "source": [
    "Now that we have the data, let's have a look at it. First of, we're interested in the distribution of the ratings:"
   ]
  },
  {
   "cell_type": "code",
   "execution_count": 10,
   "metadata": {
    "scrolled": true
   },
   "outputs": [
    {
     "data": {
      "text/plain": [
       "BBB     4946\n",
       "BBB+    4133\n",
       "A-      3615\n",
       "A       3196\n",
       "BBB-    2654\n",
       "A+      1670\n",
       "BB+     1262\n",
       "AA-      902\n",
       "BB-      824\n",
       "BB       757\n",
       "AA       417\n",
       "B+       305\n",
       "AAA      296\n",
       "AA+      199\n",
       "B-       133\n",
       "B        109\n",
       "CCC+      50\n",
       "D          4\n",
       "CCC        2\n",
       "Name: splticrm, dtype: int64"
      ]
     },
     "execution_count": 10,
     "metadata": {},
     "output_type": "execute_result"
    }
   ],
   "source": [
    "dat['splticrm'].value_counts()"
   ]
  },
  {
   "cell_type": "markdown",
   "metadata": {},
   "source": [
    "Seeing as there are only four observations of rating D, and only two observations of rating CCC, our data set does not allow us to draw any conclusions for these ratings and we have to drop them from our sample."
   ]
  },
  {
   "cell_type": "code",
   "execution_count": 11,
   "metadata": {},
   "outputs": [],
   "source": [
    "dat = dat[dat['splticrm'] != 'CCC']\n",
    "dat = dat[dat['splticrm'] != 'D']"
   ]
  },
  {
   "cell_type": "markdown",
   "metadata": {},
   "source": [
    "Following that, we consider our numerical data:"
   ]
  },
  {
   "cell_type": "code",
   "execution_count": 12,
   "metadata": {},
   "outputs": [
    {
     "name": "stdout",
     "output_type": "stream",
     "text": [
      "              bm          ps         pcf        dpr        npm        gpm  \\\n",
      "min     0.001000    0.047000 -224.460000  -0.001000 -51.493000 -37.707000   \n",
      "mean    0.511099    2.530784   12.210846   0.489392   0.080365   0.431986   \n",
      "50%     0.391000    1.814000   11.113000   0.305000   0.092000   0.406000   \n",
      "max   137.237000  145.774000  280.893000  80.554000   1.799000   0.982000   \n",
      "\n",
      "            cfm       roa        roe      roce     efftax     GProf  \\\n",
      "min  -47.694000 -0.595000 -34.647000 -1.111000 -12.365000 -1.143000   \n",
      "mean   0.152864  0.142624   0.166138  0.176364   0.290338  0.294441   \n",
      "50%    0.152500  0.139000   0.137000  0.154000   0.302000  0.263500   \n",
      "max    2.054000  0.626000  15.502000  2.279000  29.944000  1.255000   \n",
      "\n",
      "      equity_invcap  debt_invcap  totdebt_invcap  capital_ratio     int_debt  \\\n",
      "min      -17.816000     0.000000        0.000000      -5.619000     0.000000   \n",
      "mean       0.593529     0.389615        0.471293       0.395291     0.336795   \n",
      "50%        0.633000     0.348000        0.401000       0.353000     0.055000   \n",
      "max        1.000000    18.816000       21.164000      18.816000  1278.000000   \n",
      "\n",
      "      int_totdebt   cash_lt  \n",
      "min      0.000000  0.000000  \n",
      "mean     0.079749  0.311298  \n",
      "50%      0.048000  0.147000  \n",
      "max    115.262000  6.502000   \n",
      "\n",
      "      invt_act   debt_at  debt_ebitda  short_debt  curr_debt   lt_debt  \\\n",
      "min   0.000000  0.000000 -2487.500000    0.000000   0.030000  0.000000   \n",
      "mean  0.222505  0.254492     2.430452    0.158646   0.395143  0.345054   \n",
      "50%   0.194000  0.242000     1.813000    0.097000   0.363000  0.364000   \n",
      "max   5.389000  1.729000  2328.100000    5.712000   1.000000  1.408000   \n",
      "\n",
      "       ocf_lct  cash_debt    fcf_ocf     dltt_be  debt_assets  debt_capital  \\\n",
      "min  -3.037000  -0.916000 -53.180000    0.000000     0.043000      0.002000   \n",
      "mean  0.717987   0.230432   0.571597    0.880104     0.618524      0.499772   \n",
      "50%   0.613000   0.169000   0.725000    0.488000     0.617000      0.472000   \n",
      "max   4.559000   5.736000   2.033000  157.897000     1.919000      4.234000   \n",
      "\n",
      "         de_ratio  cash_ratio  quick_ratio  curr_ratio   at_turn        ptb  \\\n",
      "min  -1228.100000    0.001000      0.09100    0.113000  0.013000   0.181000   \n",
      "mean     2.908976    0.764793      1.49689    1.899965  0.814618   3.899753   \n",
      "50%      1.550000    0.441000      1.18000    1.573000  0.657000   2.629000   \n",
      "max   1818.100000   11.403000     12.82500   12.825000  5.912000  65.486000   \n",
      "\n",
      "      PEG_trailing  \n",
      "min     -33.082000  \n",
      "mean      2.819965  \n",
      "50%       1.167000  \n",
      "max     100.212000  \n"
     ]
    }
   ],
   "source": [
    "des = dat.loc[:, 'bm':'cash_lt'].describe()\n",
    "ind = [3, 1, 5, 7]   #printing the entire .describe() information consumes unnecessarily much computation power, so I index the lines I'm interested in\n",
    "print(des.iloc[ind], '\\n')\n",
    "des = dat.loc[:, 'invt_act':].describe()  #I do this in two steps, because I don't want any variables hidden behind \"...\"\n",
    "ind = [3, 1, 5, 7]\n",
    "print(des.iloc[ind])"
   ]
  },
  {
   "cell_type": "markdown",
   "metadata": {},
   "source": [
    "The output suggests that several variables have extreme outliers - for instance bm has a minimum of 0.001000, a mean of  0.506463, but a maximum of 137.237000. Visualising the data with boxplots shows this quite notably. Since our models will work a lot better if the data is more or less normally distributed, we use monotonic transformations on all variables where it makes sense."
   ]
  },
  {
   "cell_type": "code",
   "execution_count": 13,
   "metadata": {},
   "outputs": [
    {
     "data": {
      "text/plain": [
       "<matplotlib.axes._subplots.AxesSubplot at 0x1c88114b400>"
      ]
     },
     "execution_count": 13,
     "metadata": {},
     "output_type": "execute_result"
    },
    {
     "data": {
      "image/png": "[encoded data removed]",
      "text/plain": [
       "<Figure size 432x288 with 1 Axes>"
      ]
     },
     "metadata": {
      "needs_background": "light"
     },
     "output_type": "display_data"
    }
   ],
   "source": [
    "sns.boxplot(x = 'bm', data = dat)"
   ]
  },
  {
   "cell_type": "code",
   "execution_count": 14,
   "metadata": {},
   "outputs": [
    {
     "data": {
      "text/plain": [
       "<matplotlib.axes._subplots.AxesSubplot at 0x1c88122cb00>"
      ]
     },
     "execution_count": 14,
     "metadata": {},
     "output_type": "execute_result"
    },
    {
     "data": {
      "image/png": "[encoded data removed]",
      "text/plain": [
       "<Figure size 432x288 with 1 Axes>"
      ]
     },
     "metadata": {
      "needs_background": "light"
     },
     "output_type": "display_data"
    }
   ],
   "source": [
    "logbm = np.log(dat.loc[:, 'bm'])\n",
    "sns.boxplot(x = logbm)"
   ]
  },
  {
   "cell_type": "markdown",
   "metadata": {},
   "source": [
    "After looking at the data we have, we take a look at the data we do not have:"
   ]
  },
  {
   "cell_type": "code",
   "execution_count": 15,
   "metadata": {},
   "outputs": [
    {
     "name": "stdout",
     "output_type": "stream",
     "text": [
      "\u001b[1mColumn Names         Total NAs      NAs per observations\u001b[0m\n",
      "permno               0              0.000000\n",
      "gvkey                0              0.000000\n",
      "linktype             0              0.000000\n",
      "permco               0              0.000000\n",
      "linkdt               0              0.000000\n",
      "linkenddt            0              0.000000\n",
      "conm                 0              0.000000\n",
      "tic                  0              0.000000\n",
      "cusip                0              0.000000\n",
      "adate                13             0.000435\n",
      "qdate                0              0.000000\n",
      "public_date          0              0.000000\n",
      "bm                   638            0.021372\n",
      "ps                   12             0.000402\n",
      "pcf                  27             0.000904\n",
      "dpr                  1862           0.062374\n",
      "npm                  12             0.000402\n",
      "gpm                  12             0.000402\n",
      "cfm                  98             0.003283\n",
      "roa                  27             0.000904\n",
      "roe                  666            0.022310\n",
      "roce                 109            0.003651\n",
      "efftax               2108           0.070615\n",
      "GProf                12             0.000402\n",
      "equity_invcap        18             0.000603\n",
      "debt_invcap          65             0.002177\n",
      "totdebt_invcap       82             0.002747\n",
      "capital_ratio        59             0.001976\n",
      "int_debt             3213           0.107631\n",
      "int_totdebt          3044           0.101970\n",
      "cash_lt              26             0.000871\n",
      "invt_act             4275           0.143206\n",
      "debt_at              76             0.002546\n",
      "debt_ebitda          162            0.005427\n",
      "short_debt           1146           0.038389\n",
      "curr_debt            4016           0.134530\n",
      "lt_debt              59             0.001976\n",
      "ocf_lct              4011           0.134363\n",
      "cash_debt            140            0.004690\n",
      "fcf_ocf              571            0.019128\n",
      "dltt_be              661            0.022143\n",
      "debt_assets          26             0.000871\n",
      "debt_capital         197            0.006599\n",
      "de_ratio             26             0.000871\n",
      "cash_ratio           4002           0.134061\n",
      "quick_ratio          4002           0.134061\n",
      "curr_ratio           4002           0.134061\n",
      "at_turn              27             0.000904\n",
      "ptb                  638            0.021372\n",
      "PEG_trailing         10354          0.346844\n",
      "DIVYIELD             6736           0.225647\n",
      "splticrm             4384           0.146858\n"
     ]
    }
   ],
   "source": [
    "col_Names = dat.columns.values\n",
    "total_NAs = pd.isna(dat).sum()\n",
    "percentage_NAs = dat.isna().sum()/len(dat)\n",
    "print(color.bold + \"%-20s %-14s %s\" %(\"Column Names\", \"Total NAs\", \"NAs per observations\") + color.end )\n",
    "#I used the % operator because tab didn't work and this allows me to define the spaces between the items\n",
    "\n",
    "#the loop prints one line after another\n",
    "for item_a, item_b, item_c in zip(col_Names, total_NAs, percentage_NAs):\n",
    "    print(\"%-20s %-14d %.6f\" %(item_a, item_b, item_c))"
   ]
  },
  {
   "cell_type": "markdown",
   "metadata": {},
   "source": [
    "As shown above, one third of the observations of PEG_trailing is missing. The large amount of missing values does not mean we have to dispense with the variable, though. As shown in https://www.sciencedirect.com/science/article/pii/S0895435618308710 we can use multiple imputation even with large amounts of missing data.\n",
    "\n",
    "However, multiple imputation is based on the assumption of **missing at random**, where \"conditional on the observed data, the probability of missingness is independent of unobserved data\". (Same source.) This is of course impossible to test, since we will never know what the unobserved data is. What makes the evaluation even harder is that we were not involved in the data collection, and have no way of finding out why data is missing. However, as the data we have is quite extensive and all companies are bound to reporting standards - meaning they cannot change what data to publish on a whim - we believe the assumption is reasonable. By contrast, it is relatively easy to show that the data is not missing completely at random: Simply plotting the relationship between for instance pcf and the missingness of PEG_trailing shows that there exists a pattern.\n",
    "\n",
    "(For further explanations on the differences between missing at random, missing not at random, and missing completely at random, see our paper.)"
   ]
  },
  {
   "cell_type": "code",
   "execution_count": 16,
   "metadata": {},
   "outputs": [
    {
     "data": {
      "text/plain": [
       "<matplotlib.axes._subplots.AxesSubplot at 0x1c881cb64a8>"
      ]
     },
     "execution_count": 16,
     "metadata": {},
     "output_type": "execute_result"
    },
    {
     "data": {
      "image/png": "[encoded data removed]",
      "text/plain": [
       "<Figure size 432x288 with 1 Axes>"
      ]
     },
     "metadata": {
      "needs_background": "light"
     },
     "output_type": "display_data"
    }
   ],
   "source": [
    "sns.regplot(dat.pcf, dat.PEG_trailing.isna())"
   ]
  },
  {
   "cell_type": "markdown",
   "metadata": {},
   "source": [
    "So now, we will go about filling in the missing data by using multiple imputation, the imputation method being a modeling of each feature with missing values as a function of other features in a round-robin regression."
   ]
  },
  {
   "cell_type": "code",
   "execution_count": 17,
   "metadata": {},
   "outputs": [],
   "source": [
    "from sklearn.experimental import enable_iterative_imputer\n",
    "from sklearn.impute import IterativeImputer"
   ]
  },
  {
   "cell_type": "code",
   "execution_count": null,
   "metadata": {},
   "outputs": [],
   "source": []
  }
 ],
 "metadata": {
  "kernelspec": {
   "display_name": "Python 3",
   "language": "python",
   "name": "python3"
  },
  "language_info": {
   "codemirror_mode": {
    "name": "ipython",
    "version": 3
   },
   "file_extension": ".py",
   "mimetype": "text/x-python",
   "name": "python",
   "nbconvert_exporter": "python",
   "pygments_lexer": "ipython3",
   "version": "3.7.0"
  }
 },
 "nbformat": 4,
 "nbformat_minor": 4
}
